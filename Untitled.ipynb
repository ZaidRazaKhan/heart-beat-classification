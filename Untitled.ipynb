{
 "cells": [
  {
   "cell_type": "code",
   "execution_count": 2,
   "metadata": {},
   "outputs": [],
   "source": [
    "import numpy as np\n",
    "import sklearn\n",
    "from sklearn.svm import SVC\n",
    "from sklearn.model_selection import train_test_split\n",
    "from sklearn.model_selection import GridSearchCV\n",
    "from sklearn.metrics import classification_report\n",
    "from sklearn.metrics import confusion_matrix\n",
    "from sklearn.neighbors import KNeighborsClassifier "
   ]
  },
  {
   "cell_type": "code",
   "execution_count": 3,
   "metadata": {},
   "outputs": [],
   "source": [
    "# Load data from numpy file\n",
    "X =  np.load('feat.npy')\n",
    "y =  np.load('label.npy').ravel()\n",
    "\n",
    "# Split data into training and test subsets\n",
    "X_train, X_test, y_train, y_test = train_test_split(X, y, test_size=0.4, random_state=0)"
   ]
  },
  {
   "cell_type": "code",
   "execution_count": 19,
   "metadata": {},
   "outputs": [],
   "source": [
    "ks =[]\n",
    "accuracy = []"
   ]
  },
  {
   "cell_type": "code",
   "execution_count": 20,
   "metadata": {},
   "outputs": [],
   "source": [
    "for i in range(1,25):\n",
    "    acc = KNeighborsClassifier(n_neighbors = i).fit(X_train, y_train).score(X_test, y_test)\n",
    "    ks.append(i)\n",
    "    accuracy.append(acc)"
   ]
  },
  {
   "cell_type": "code",
   "execution_count": 21,
   "metadata": {},
   "outputs": [
    {
     "data": {
      "text/plain": [
       "[1,\n",
       " 2,\n",
       " 3,\n",
       " 4,\n",
       " 5,\n",
       " 6,\n",
       " 7,\n",
       " 8,\n",
       " 9,\n",
       " 10,\n",
       " 11,\n",
       " 12,\n",
       " 13,\n",
       " 14,\n",
       " 15,\n",
       " 16,\n",
       " 17,\n",
       " 18,\n",
       " 19,\n",
       " 20,\n",
       " 21,\n",
       " 22,\n",
       " 23,\n",
       " 24]"
      ]
     },
     "execution_count": 21,
     "metadata": {},
     "output_type": "execute_result"
    }
   ],
   "source": [
    "ks"
   ]
  },
  {
   "cell_type": "code",
   "execution_count": 22,
   "metadata": {},
   "outputs": [
    {
     "data": {
      "text/plain": [
       "[0.6282051282051282,\n",
       " 0.5470085470085471,\n",
       " 0.6581196581196581,\n",
       " 0.6239316239316239,\n",
       " 0.6410256410256411,\n",
       " 0.6495726495726496,\n",
       " 0.6837606837606838,\n",
       " 0.6837606837606838,\n",
       " 0.688034188034188,\n",
       " 0.6794871794871795,\n",
       " 0.6965811965811965,\n",
       " 0.6965811965811965,\n",
       " 0.7051282051282052,\n",
       " 0.717948717948718,\n",
       " 0.6923076923076923,\n",
       " 0.7051282051282052,\n",
       " 0.6837606837606838,\n",
       " 0.6837606837606838,\n",
       " 0.6666666666666666,\n",
       " 0.6752136752136753,\n",
       " 0.6666666666666666,\n",
       " 0.6623931623931624,\n",
       " 0.6538461538461539,\n",
       " 0.6581196581196581]"
      ]
     },
     "execution_count": 22,
     "metadata": {},
     "output_type": "execute_result"
    }
   ],
   "source": [
    "accuracy"
   ]
  },
  {
   "cell_type": "code",
   "execution_count": 24,
   "metadata": {},
   "outputs": [
    {
     "data": {
      "image/png": "[encoded data removed]",
      "text/plain": [
       "<Figure size 432x288 with 1 Axes>"
      ]
     },
     "metadata": {
      "needs_background": "light"
     },
     "output_type": "display_data"
    }
   ],
   "source": [
    "import matplotlib.pyplot as plt \n",
    "# plotting the points  \n",
    "plt.plot(ks, accuracy) \n",
    "  \n",
    "# naming the x axis \n",
    "plt.xlabel('Number of neighbours') \n",
    "# naming the y axis \n",
    "plt.ylabel('accuracy') \n",
    "  \n",
    "# giving a title to my graph \n",
    "plt.title('No. of neighbour vs accuracy graph') \n",
    "  \n",
    "# function to show the plot \n",
    "plt.show() \n"
   ]
  },
  {
   "cell_type": "code",
   "execution_count": 26,
   "metadata": {},
   "outputs": [],
   "source": [
    "from sklearn.metrics import confusion_matrix\n",
    "def get(i, X_train, y_train, X_test, y_test):\n",
    "    knn_predictions = KNeighborsClassifier(n_neighbors = i).fit(X_train, y_train).predict(X_test)\n",
    "    # plot_confusion_matrix(y_test, knn_predictions, classes=class_names, normalize=True,title='Normalized confusion matrix')\n",
    "    cm1 = confusion_matrix(y_test, knn_predictions)\n",
    "    TP_artifact = cm1[0][0]\n",
    "    TN_artifact = cm1[1][1]+cm1[2][2]+cm1[3][3]+cm1[4][4]\n",
    "    FP_artifact = cm1[1][0]+cm1[2][0]+cm1[3][0]+cm1[4][0]\n",
    "    FN_artifact = cm1[0][1]+cm1[0][2]+cm1[0][3]+cm1[0][4]\n",
    "    TP_normal = cm1[1][1]\n",
    "    TN_normal = cm1[0][0]+cm1[2][2]+cm1[3][3]+cm1[4][4]\n",
    "    FP_normal = cm1[0][1]+cm1[2][1]+cm1[3][1]+cm1[4][1]\n",
    "    FN_normal = cm1[1][0]+cm1[1][2]+cm1[1][3]+cm1[1][4]\n",
    "    TP_murmur = cm1[2][2]\n",
    "    TN_murmur = cm1[0][0]+cm1[1][1]+cm1[3][3]+cm1[4][4]\n",
    "    FP_murmur = cm1[0][2]+cm1[1][2]+cm1[3][2]+cm1[4][2]\n",
    "    FN_murmur = cm1[2][0]+cm1[2][2]+cm1[2][3]+cm1[2][4]\n",
    "    TP_extrahls = cm1[3][3]\n",
    "    TN_extrahls = cm1[0][0]+cm1[2][2]+cm1[1][1]+cm1[4][4]\n",
    "    FP_extrahls = cm1[0][3]+cm1[1][3]+cm1[2][3]+cm1[4][3]\n",
    "    FN_extrahls = cm1[3][0]+cm1[3][1]+cm1[3][2]+cm1[3][4]\n",
    "    TP_extrasys = cm1[4][4]\n",
    "    TN_extrasys = cm1[0][0]+cm1[2][2]+cm1[3][3]+cm1[1][1]\n",
    "    FP_extrasys = cm1[0][4]+cm1[1][4]+cm1[2][4]+cm1[3][4]\n",
    "    FN_extrasys = cm1[4][0]+cm1[4][2]+cm1[4][3]+cm1[4][1]\n",
    "\n",
    "\n",
    "    # calculate accuracy\n",
    "    conf_accuracy_artifact = (float (TP_artifact+TN_artifact) / float(TP_artifact + TN_artifact + FP_artifact + FN_artifact))\n",
    "    conf_accuracy_normal = (float (TP_normal+TN_normal) / float(TP_normal + TN_normal + FP_normal + FN_normal))\n",
    "    conf_accuracy_murmur = (float (TP_murmur+TN_murmur) / float(TP_murmur + TN_murmur + FP_murmur + FN_murmur))\n",
    "    conf_accuracy_extrahls = (float (TP_extrahls+TN_extrahls) / float(TP_extrahls + TN_extrahls + FP_extrahls + FN_extrahls))\n",
    "    conf_accuracy_extrasys = (float (TP_extrasys+TN_extrasys) / float(TP_extrasys + TN_extrasys + FP_extrasys + FN_extrasys))\n",
    "    conf_accuracy=(conf_accuracy_artifact+conf_accuracy_murmur+conf_accuracy_normal+conf_accuracy_extrahls+conf_accuracy_extrasys)/5\n",
    "\n",
    "\n",
    "    # calculate mis-classification\n",
    "    #conf_misclassification = 1- conf_accuracy\n",
    "\n",
    "    # calculate the sensitivity\n",
    "    conf_sensitivity_a = (TP_artifact / float(TP_artifact + FN_artifact))\n",
    "    conf_sensitivity_n = (TP_normal / float(TP_normal + FN_normal))\n",
    "    conf_sensitivity_m = (TP_murmur / float(TP_murmur + FN_murmur))\n",
    "    conf_sensitivity_e1 = (TP_extrahls / float(TP_extrahls + FN_extrahls))\n",
    "    conf_sensitivity_e2 = (TP_extrasys / float(TP_extrasys + FN_extrasys))\n",
    "    conf_sensitivity =(conf_sensitivity_a+conf_sensitivity_n+conf_sensitivity_m+conf_sensitivity_e1+conf_sensitivity_e2)/5\n",
    "    # calculate the specificity\n",
    "    conf_specificity_a = (TN_artifact / float(TN_artifact + FP_artifact))\n",
    "    conf_specificity_n = (TN_normal / float(TN_normal + FP_normal))\n",
    "    conf_specificity_m = (TN_murmur / float(TN_murmur + FP_murmur))\n",
    "    conf_specificity_e1 = (TN_extrahls / float(TN_extrahls + FP_extrahls))\n",
    "    conf_specificity_e2 = (TN_extrasys / float(TN_extrasys + FP_extrasys))\n",
    "    conf_specificity = (conf_specificity_a+conf_specificity_n+conf_specificity_m+conf_specificity_e1+conf_specificity_e2)/5\n",
    "    return conf_accuracy, conf_sensitivity, conf_specificity\n",
    "# print('-'*50)\n",
    "# print(f'Accuracy: {round(conf_accuracy,2)}')  \n",
    "# print(f'Sensitivity: {round(conf_sensitivity,2)}')\n",
    "# print(f'Specificity: {round(conf_specificity,2)}')\n"
   ]
  },
  {
   "cell_type": "code",
   "execution_count": 32,
   "metadata": {},
   "outputs": [],
   "source": [
    "ks = []\n",
    "sensitivity = []\n",
    "specificity = []\n",
    "accuracy = []\n",
    "for i in range(1,25):\n",
    "#     acc = KNeighborsClassifier(n_neighbors = i).fit(X_train, y_train).score(X_test, y_test)\n",
    "    ks.append(i)\n",
    "    acc,sens, spec = get(i, X_train, y_train, X_test, y_test)\n",
    "    accuracy.append(acc)\n",
    "    sensitivity.append(sens)\n",
    "    specificity.append(spec)"
   ]
  },
  {
   "cell_type": "code",
   "execution_count": 33,
   "metadata": {},
   "outputs": [
    {
     "data": {
      "text/plain": [
       "[0.5048632218844985,\n",
       " 0.5101076677973071,\n",
       " 0.5045776918117344,\n",
       " 0.4884429400386847,\n",
       " 0.4868076663289429,\n",
       " 0.49303782505910165,\n",
       " 0.48443853427895983,\n",
       " 0.48590425531914894,\n",
       " 0.4647163120567376,\n",
       " 0.4676713947990544,\n",
       " 0.4588947990543735,\n",
       " 0.508983451536643,\n",
       " 0.4949172576832151,\n",
       " 0.47833924349881796,\n",
       " 0.4502955082742317,\n",
       " 0.45159574468085106,\n",
       " 0.4306737588652482,\n",
       " 0.427807328605201,\n",
       " 0.40966312056737586,\n",
       " 0.42641843971631205,\n",
       " 0.40966312056737586,\n",
       " 0.4000295508274232,\n",
       " 0.3943853427895981,\n",
       " 0.39290780141843973]"
      ]
     },
     "execution_count": 33,
     "metadata": {},
     "output_type": "execute_result"
    }
   ],
   "source": [
    "sensitivity"
   ]
  },
  {
   "cell_type": "code",
   "execution_count": 34,
   "metadata": {},
   "outputs": [
    {
     "data": {
      "text/plain": [
       "[0.8430738311292231,\n",
       " 0.8236218687875274,\n",
       " 0.8518383219636588,\n",
       " 0.8432370369426291,\n",
       " 0.8448555502900856,\n",
       " 0.8479956943616974,\n",
       " 0.8558172586678549,\n",
       " 0.8599783588653237,\n",
       " 0.8553149897382244,\n",
       " 0.855107612492295,\n",
       " 0.8547349961255891,\n",
       " 0.858596751650252,\n",
       " 0.8577369307920651,\n",
       " 0.8617944316380954,\n",
       " 0.8491832823519708,\n",
       " 0.8528227798906254,\n",
       " 0.8450207197419994,\n",
       " 0.8424711981566821,\n",
       " 0.8342543198115955,\n",
       " 0.8396669726633915,\n",
       " 0.8354420338536178,\n",
       " 0.8328882452811346,\n",
       " 0.8309920255183414,\n",
       " 0.8307420183251002]"
      ]
     },
     "execution_count": 34,
     "metadata": {},
     "output_type": "execute_result"
    }
   ],
   "source": [
    "specificity"
   ]
  },
  {
   "cell_type": "code",
   "execution_count": 39,
   "metadata": {},
   "outputs": [
    {
     "data": {
      "image/png": "[encoded data removed]",
      "text/plain": [
       "<Figure size 432x288 with 1 Axes>"
      ]
     },
     "metadata": {
      "needs_background": "light"
     },
     "output_type": "display_data"
    }
   ],
   "source": [
    "\n",
    "import matplotlib.pyplot as plt \n",
    "  \n",
    "# plt.plot(ks, accuracy, label = \"accuracy\")   \n",
    "plt.plot(ks, sensitivity, label = \"sensitivity\") \n",
    "plt.plot(ks, specificity, label = \"specificity\")\n",
    "# naming the x axis \n",
    "plt.xlabel('k') \n",
    "# naming the y axis \n",
    "plt.ylabel('accuracy') \n",
    "# giving a title to my graph \n",
    "plt.title('Accuracy metric') \n",
    "  \n",
    "# show a legend on the plot \n",
    "plt.legend() \n",
    "  \n",
    "# function to show the plot \n",
    "plt.show() \n"
   ]
  },
  {
   "cell_type": "code",
   "execution_count": 41,
   "metadata": {},
   "outputs": [
    {
     "name": "stderr",
     "output_type": "stream",
     "text": [
      "/home/zaidraza/workspace/ImageClassification-Sklearn/venv/lib/python3.7/site-packages/sklearn/linear_model/logistic.py:947: ConvergenceWarning: lbfgs failed to converge. Increase the number of iterations.\n",
      "  \"of iterations.\", ConvergenceWarning)\n"
     ]
    },
    {
     "name": "stdout",
     "output_type": "stream",
     "text": [
      "0.5811965811965812\n"
     ]
    },
    {
     "name": "stderr",
     "output_type": "stream",
     "text": [
      "/home/zaidraza/workspace/ImageClassification-Sklearn/venv/lib/python3.7/site-packages/sklearn/linear_model/logistic.py:947: ConvergenceWarning: lbfgs failed to converge. Increase the number of iterations.\n",
      "  \"of iterations.\", ConvergenceWarning)\n"
     ]
    }
   ],
   "source": [
    "import numpy as np\n",
    "import sklearn\n",
    "from sklearn.svm import SVC\n",
    "from sklearn.model_selection import train_test_split\n",
    "from sklearn.model_selection import GridSearchCV\n",
    "from sklearn.metrics import classification_report\n",
    "from sklearn.linear_model import LogisticRegression\n",
    "# Load data from numpy file\n",
    "X =  np.load('feat.npy')\n",
    "y =  np.load('label.npy').ravel()\n",
    "\n",
    "# Split data into training and test subsets\n",
    "X_train, X_test, y_train, y_test = train_test_split(X, y, test_size=0.4, random_state=0)\n",
    "\n",
    "clf = LogisticRegression(random_state=0, solver='lbfgs', multi_class='multinomial', max_iter = 1000000).fit(X_train, y_train)\n",
    "print(clf.score(X_test, y_test))\n",
    "lr = LogisticRegression(penalty = 'l2', dual=False, tol = 1e-4, C = 1, fit_intercept = True, solver = 'lbfgs', multi_class = 'multinomial', max_iter = 10000000).fit(X_train, y_train)"
   ]
  },
  {
   "cell_type": "code",
   "execution_count": 45,
   "metadata": {},
   "outputs": [
    {
     "data": {
      "text/plain": [
       "0.594017094017094"
      ]
     },
     "execution_count": 45,
     "metadata": {},
     "output_type": "execute_result"
    }
   ],
   "source": [
    "lr = LogisticRegression(penalty = 'l2', dual=False, tol = 1e-4, C = 1, fit_intercept = True, solver = 'newton-cg', multi_class = 'multinomial', max_iter = 10000000000).fit(X_train, y_train)\n",
    "lr.score(X_test, y_test)"
   ]
  },
  {
   "cell_type": "code",
   "execution_count": 50,
   "metadata": {},
   "outputs": [],
   "source": [
    "def get_lr(X_train, y_train, X_test, y_test):\n",
    "    lr_predictions = lr = LogisticRegression(penalty = 'l2', dual=False, tol = 1e-4, C = 1, fit_intercept = True, solver = 'newton-cg', multi_class = 'multinomial', max_iter = 10000000000).fit(X_train, y_train).predict(X_test)\n",
    "    # plot_confusion_matrix(y_test, knn_predictions, classes=class_names, normalize=True,title='Normalized confusion matrix')\n",
    "    cm1 = confusion_matrix(y_test, lr_predictions)\n",
    "    TP_artifact = cm1[0][0]\n",
    "    TN_artifact = cm1[1][1]+cm1[2][2]+cm1[3][3]+cm1[4][4]\n",
    "    FP_artifact = cm1[1][0]+cm1[2][0]+cm1[3][0]+cm1[4][0]\n",
    "    FN_artifact = cm1[0][1]+cm1[0][2]+cm1[0][3]+cm1[0][4]\n",
    "    TP_normal = cm1[1][1]\n",
    "    TN_normal = cm1[0][0]+cm1[2][2]+cm1[3][3]+cm1[4][4]\n",
    "    FP_normal = cm1[0][1]+cm1[2][1]+cm1[3][1]+cm1[4][1]\n",
    "    FN_normal = cm1[1][0]+cm1[1][2]+cm1[1][3]+cm1[1][4]\n",
    "    TP_murmur = cm1[2][2]\n",
    "    TN_murmur = cm1[0][0]+cm1[1][1]+cm1[3][3]+cm1[4][4]\n",
    "    FP_murmur = cm1[0][2]+cm1[1][2]+cm1[3][2]+cm1[4][2]\n",
    "    FN_murmur = cm1[2][0]+cm1[2][2]+cm1[2][3]+cm1[2][4]\n",
    "    TP_extrahls = cm1[3][3]\n",
    "    TN_extrahls = cm1[0][0]+cm1[2][2]+cm1[1][1]+cm1[4][4]\n",
    "    FP_extrahls = cm1[0][3]+cm1[1][3]+cm1[2][3]+cm1[4][3]\n",
    "    FN_extrahls = cm1[3][0]+cm1[3][1]+cm1[3][2]+cm1[3][4]\n",
    "    TP_extrasys = cm1[4][4]\n",
    "    TN_extrasys = cm1[0][0]+cm1[2][2]+cm1[3][3]+cm1[1][1]\n",
    "    FP_extrasys = cm1[0][4]+cm1[1][4]+cm1[2][4]+cm1[3][4]\n",
    "    FN_extrasys = cm1[4][0]+cm1[4][2]+cm1[4][3]+cm1[4][1]\n",
    "\n",
    "\n",
    "    # calculate accuracy\n",
    "    conf_accuracy_artifact = (float (TP_artifact+TN_artifact) / float(TP_artifact + TN_artifact + FP_artifact + FN_artifact))\n",
    "    conf_accuracy_normal = (float (TP_normal+TN_normal) / float(TP_normal + TN_normal + FP_normal + FN_normal))\n",
    "    conf_accuracy_murmur = (float (TP_murmur+TN_murmur) / float(TP_murmur + TN_murmur + FP_murmur + FN_murmur))\n",
    "    conf_accuracy_extrahls = (float (TP_extrahls+TN_extrahls) / float(TP_extrahls + TN_extrahls + FP_extrahls + FN_extrahls))\n",
    "    conf_accuracy_extrasys = (float (TP_extrasys+TN_extrasys) / float(TP_extrasys + TN_extrasys + FP_extrasys + FN_extrasys))\n",
    "    conf_accuracy=(conf_accuracy_artifact+conf_accuracy_murmur+conf_accuracy_normal+conf_accuracy_extrahls+conf_accuracy_extrasys)/5\n",
    "\n",
    "\n",
    "    # calculate mis-classification\n",
    "    #conf_misclassification = 1- conf_accuracy\n",
    "\n",
    "    # calculate the sensitivity\n",
    "    conf_sensitivity_a = (TP_artifact / float(TP_artifact + FN_artifact))\n",
    "    conf_sensitivity_n = (TP_normal / float(TP_normal + FN_normal))\n",
    "    conf_sensitivity_m = (TP_murmur / float(TP_murmur + FN_murmur))\n",
    "    conf_sensitivity_e1 = (TP_extrahls / float(TP_extrahls + FN_extrahls))\n",
    "    conf_sensitivity_e2 = (TP_extrasys / float(TP_extrasys + FN_extrasys))\n",
    "    conf_sensitivity =(conf_sensitivity_a+conf_sensitivity_n+conf_sensitivity_m+conf_sensitivity_e1+conf_sensitivity_e2)/5\n",
    "    # calculate the specificity\n",
    "    conf_specificity_a = (TN_artifact / float(TN_artifact + FP_artifact))\n",
    "    conf_specificity_n = (TN_normal / float(TN_normal + FP_normal))\n",
    "    conf_specificity_m = (TN_murmur / float(TN_murmur + FP_murmur))\n",
    "    conf_specificity_e1 = (TN_extrahls / float(TN_extrahls + FP_extrahls))\n",
    "    conf_specificity_e2 = (TN_extrasys / float(TN_extrasys + FP_extrasys))\n",
    "    conf_specificity = (conf_specificity_a+conf_specificity_n+conf_specificity_m+conf_specificity_e1+conf_specificity_e2)/5\n",
    "    return conf_accuracy, conf_sensitivity, conf_specificity"
   ]
  },
  {
   "cell_type": "code",
   "execution_count": 52,
   "metadata": {},
   "outputs": [],
   "source": [
    "a, b, c = get_lr(X_train, y_train, X_test, y_test)"
   ]
  },
  {
   "cell_type": "code",
   "execution_count": 53,
   "metadata": {},
   "outputs": [
    {
     "data": {
      "text/plain": [
       "0.8068946473391947"
      ]
     },
     "execution_count": 53,
     "metadata": {},
     "output_type": "execute_result"
    }
   ],
   "source": [
    "a"
   ]
  },
  {
   "cell_type": "code",
   "execution_count": 54,
   "metadata": {},
   "outputs": [
    {
     "data": {
      "text/plain": [
       "0.47655352921310373"
      ]
     },
     "execution_count": 54,
     "metadata": {},
     "output_type": "execute_result"
    }
   ],
   "source": [
    "b"
   ]
  },
  {
   "cell_type": "code",
   "execution_count": 55,
   "metadata": {},
   "outputs": [
    {
     "data": {
      "text/plain": [
       "0.8251459947888369"
      ]
     },
     "execution_count": 55,
     "metadata": {},
     "output_type": "execute_result"
    }
   ],
   "source": [
    "c"
   ]
  },
  {
   "cell_type": "code",
   "execution_count": null,
   "metadata": {},
   "outputs": [],
   "source": []
  }
 ],
 "metadata": {
  "kernelspec": {
   "display_name": "Python 3",
   "language": "python",
   "name": "python3"
  },
  "language_info": {
   "codemirror_mode": {
    "name": "ipython",
    "version": 3
   },
   "file_extension": ".py",
   "mimetype": "text/x-python",
   "name": "python",
   "nbconvert_exporter": "python",
   "pygments_lexer": "ipython3",
   "version": "3.7.3"
  }
 },
 "nbformat": 4,
 "nbformat_minor": 2
}
